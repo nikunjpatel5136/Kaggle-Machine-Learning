{
 "cells": [
  {
   "cell_type": "markdown",
   "id": "581499ca",
   "metadata": {
    "papermill": {
     "duration": 0.008909,
     "end_time": "2024-11-04T14:30:38.942775",
     "exception": false,
     "start_time": "2024-11-04T14:30:38.933866",
     "status": "completed"
    },
    "tags": []
   },
   "source": [
    "**This notebook is an exercise in the [Introduction to Machine Learning](https://www.kaggle.com/learn/intro-to-machine-learning) course.  You can reference the tutorial at [this link](https://www.kaggle.com/dansbecker/your-first-machine-learning-model).**\n",
    "\n",
    "---\n"
   ]
  },
  {
   "cell_type": "markdown",
   "id": "11d89540",
   "metadata": {
    "papermill": {
     "duration": 0.006462,
     "end_time": "2024-11-04T14:30:38.956207",
     "exception": false,
     "start_time": "2024-11-04T14:30:38.949745",
     "status": "completed"
    },
    "tags": []
   },
   "source": [
    "## Recap\n",
    "So far, you have loaded your data and reviewed it with the following code. Run this cell to set up your coding environment where the previous step left off."
   ]
  },
  {
   "cell_type": "code",
   "execution_count": 1,
   "id": "f2993ab8",
   "metadata": {
    "execution": {
     "iopub.execute_input": "2024-11-04T14:30:38.971530Z",
     "iopub.status.busy": "2024-11-04T14:30:38.971058Z",
     "iopub.status.idle": "2024-11-04T14:30:41.832037Z",
     "shell.execute_reply": "2024-11-04T14:30:41.830546Z"
    },
    "papermill": {
     "duration": 2.87223,
     "end_time": "2024-11-04T14:30:41.835107",
     "exception": false,
     "start_time": "2024-11-04T14:30:38.962877",
     "status": "completed"
    },
    "tags": []
   },
   "outputs": [
    {
     "name": "stdout",
     "output_type": "stream",
     "text": [
      "Setup Complete\n"
     ]
    }
   ],
   "source": [
    "# Code you have previously used to load data\n",
    "import pandas as pd\n",
    "\n",
    "# Path of the file to read\n",
    "iowa_file_path = '../input/home-data-for-ml-course/train.csv'\n",
    "\n",
    "home_data = pd.read_csv(iowa_file_path)\n",
    "\n",
    "# Set up code checking\n",
    "from learntools.core import binder\n",
    "binder.bind(globals())\n",
    "from learntools.machine_learning.ex3 import *\n",
    "\n",
    "print(\"Setup Complete\")"
   ]
  },
  {
   "cell_type": "markdown",
   "id": "d391aafe",
   "metadata": {
    "papermill": {
     "duration": 0.007022,
     "end_time": "2024-11-04T14:30:41.849843",
     "exception": false,
     "start_time": "2024-11-04T14:30:41.842821",
     "status": "completed"
    },
    "tags": []
   },
   "source": [
    "# Exercises\n",
    "\n",
    "## Step 1: Specify Prediction Target\n",
    "Select the target variable, which corresponds to the sales price. Save this to a new variable called `y`. You'll need to print a list of the columns to find the name of the column you need.\n"
   ]
  },
  {
   "cell_type": "code",
   "execution_count": 2,
   "id": "000f4dfc",
   "metadata": {
    "execution": {
     "iopub.execute_input": "2024-11-04T14:30:41.866894Z",
     "iopub.status.busy": "2024-11-04T14:30:41.866299Z",
     "iopub.status.idle": "2024-11-04T14:30:41.876097Z",
     "shell.execute_reply": "2024-11-04T14:30:41.874927Z"
    },
    "papermill": {
     "duration": 0.021878,
     "end_time": "2024-11-04T14:30:41.878766",
     "exception": false,
     "start_time": "2024-11-04T14:30:41.856888",
     "status": "completed"
    },
    "tags": []
   },
   "outputs": [
    {
     "data": {
      "text/plain": [
       "Index(['Id', 'MSSubClass', 'MSZoning', 'LotFrontage', 'LotArea', 'Street',\n",
       "       'Alley', 'LotShape', 'LandContour', 'Utilities', 'LotConfig',\n",
       "       'LandSlope', 'Neighborhood', 'Condition1', 'Condition2', 'BldgType',\n",
       "       'HouseStyle', 'OverallQual', 'OverallCond', 'YearBuilt', 'YearRemodAdd',\n",
       "       'RoofStyle', 'RoofMatl', 'Exterior1st', 'Exterior2nd', 'MasVnrType',\n",
       "       'MasVnrArea', 'ExterQual', 'ExterCond', 'Foundation', 'BsmtQual',\n",
       "       'BsmtCond', 'BsmtExposure', 'BsmtFinType1', 'BsmtFinSF1',\n",
       "       'BsmtFinType2', 'BsmtFinSF2', 'BsmtUnfSF', 'TotalBsmtSF', 'Heating',\n",
       "       'HeatingQC', 'CentralAir', 'Electrical', '1stFlrSF', '2ndFlrSF',\n",
       "       'LowQualFinSF', 'GrLivArea', 'BsmtFullBath', 'BsmtHalfBath', 'FullBath',\n",
       "       'HalfBath', 'BedroomAbvGr', 'KitchenAbvGr', 'KitchenQual',\n",
       "       'TotRmsAbvGrd', 'Functional', 'Fireplaces', 'FireplaceQu', 'GarageType',\n",
       "       'GarageYrBlt', 'GarageFinish', 'GarageCars', 'GarageArea', 'GarageQual',\n",
       "       'GarageCond', 'PavedDrive', 'WoodDeckSF', 'OpenPorchSF',\n",
       "       'EnclosedPorch', '3SsnPorch', 'ScreenPorch', 'PoolArea', 'PoolQC',\n",
       "       'Fence', 'MiscFeature', 'MiscVal', 'MoSold', 'YrSold', 'SaleType',\n",
       "       'SaleCondition', 'SalePrice'],\n",
       "      dtype='object')"
      ]
     },
     "execution_count": 2,
     "metadata": {},
     "output_type": "execute_result"
    }
   ],
   "source": [
    "# print the list of columns in the dataset to find the name of the prediction target\n",
    "home_data.columns\n"
   ]
  },
  {
   "cell_type": "code",
   "execution_count": 3,
   "id": "3e93856d",
   "metadata": {
    "execution": {
     "iopub.execute_input": "2024-11-04T14:30:41.895772Z",
     "iopub.status.busy": "2024-11-04T14:30:41.894675Z",
     "iopub.status.idle": "2024-11-04T14:30:41.911793Z",
     "shell.execute_reply": "2024-11-04T14:30:41.910528Z"
    },
    "papermill": {
     "duration": 0.028104,
     "end_time": "2024-11-04T14:30:41.914357",
     "exception": false,
     "start_time": "2024-11-04T14:30:41.886253",
     "status": "completed"
    },
    "tags": []
   },
   "outputs": [
    {
     "data": {
      "application/javascript": [
       "parent.postMessage({\"jupyterEvent\": \"custom.exercise_interaction\", \"data\": {\"outcomeType\": 1, \"valueTowardsCompletion\": 0.25, \"interactionType\": 1, \"questionType\": 2, \"questionId\": \"1_SetTarget\", \"learnToolsVersion\": \"0.3.4\", \"failureMessage\": \"\", \"exceptionClass\": \"\", \"trace\": \"\"}}, \"*\")"
      ],
      "text/plain": [
       "<IPython.core.display.Javascript object>"
      ]
     },
     "metadata": {},
     "output_type": "display_data"
    },
    {
     "data": {
      "text/markdown": [
       "<span style=\"color:#33cc33\">Correct</span>"
      ],
      "text/plain": [
       "Correct"
      ]
     },
     "metadata": {},
     "output_type": "display_data"
    }
   ],
   "source": [
    "#sets y as the prediction target variable, or the variable we want to predict\n",
    "y = home_data.SalePrice \n",
    "\n",
    "# Check your answer\n",
    "step_1.check()"
   ]
  },
  {
   "cell_type": "code",
   "execution_count": 4,
   "id": "c08f16dc",
   "metadata": {
    "execution": {
     "iopub.execute_input": "2024-11-04T14:30:41.932703Z",
     "iopub.status.busy": "2024-11-04T14:30:41.932240Z",
     "iopub.status.idle": "2024-11-04T14:30:41.937366Z",
     "shell.execute_reply": "2024-11-04T14:30:41.936236Z"
    },
    "papermill": {
     "duration": 0.017673,
     "end_time": "2024-11-04T14:30:41.939921",
     "exception": false,
     "start_time": "2024-11-04T14:30:41.922248",
     "status": "completed"
    },
    "tags": []
   },
   "outputs": [],
   "source": [
    "# The lines below will show you a hint or the solution.\n",
    "# step_1.hint() \n",
    "# step_1.solution()"
   ]
  },
  {
   "cell_type": "markdown",
   "id": "afbc158a",
   "metadata": {
    "papermill": {
     "duration": 0.007237,
     "end_time": "2024-11-04T14:30:41.955952",
     "exception": false,
     "start_time": "2024-11-04T14:30:41.948715",
     "status": "completed"
    },
    "tags": []
   },
   "source": [
    "## Step 2: Create X\n",
    "Now you will create a DataFrame called `X` holding the predictive features.\n",
    "\n",
    "Since you want only some columns from the original data, you'll first create a list with the names of the columns you want in `X`.\n",
    "\n",
    "You'll use just the following columns in the list (you can copy and paste the whole list to save some typing, though you'll still need to add quotes):\n",
    "  * LotArea\n",
    "  * YearBuilt\n",
    "  * 1stFlrSF\n",
    "  * 2ndFlrSF\n",
    "  * FullBath\n",
    "  * BedroomAbvGr\n",
    "  * TotRmsAbvGrd\n",
    "\n",
    "After you've created that list of features, use it to create the DataFrame that you'll use to fit the model."
   ]
  },
  {
   "cell_type": "code",
   "execution_count": 5,
   "id": "8b75266c",
   "metadata": {
    "execution": {
     "iopub.execute_input": "2024-11-04T14:30:41.972768Z",
     "iopub.status.busy": "2024-11-04T14:30:41.972335Z",
     "iopub.status.idle": "2024-11-04T14:30:41.988983Z",
     "shell.execute_reply": "2024-11-04T14:30:41.987703Z"
    },
    "papermill": {
     "duration": 0.028129,
     "end_time": "2024-11-04T14:30:41.991640",
     "exception": false,
     "start_time": "2024-11-04T14:30:41.963511",
     "status": "completed"
    },
    "tags": []
   },
   "outputs": [
    {
     "data": {
      "application/javascript": [
       "parent.postMessage({\"jupyterEvent\": \"custom.exercise_interaction\", \"data\": {\"outcomeType\": 1, \"valueTowardsCompletion\": 0.25, \"interactionType\": 1, \"questionType\": 2, \"questionId\": \"2_SelectPredictionData\", \"learnToolsVersion\": \"0.3.4\", \"failureMessage\": \"\", \"exceptionClass\": \"\", \"trace\": \"\"}}, \"*\")"
      ],
      "text/plain": [
       "<IPython.core.display.Javascript object>"
      ]
     },
     "metadata": {},
     "output_type": "display_data"
    },
    {
     "data": {
      "text/markdown": [
       "<span style=\"color:#33cc33\">Correct</span>"
      ],
      "text/plain": [
       "Correct"
      ]
     },
     "metadata": {},
     "output_type": "display_data"
    }
   ],
   "source": [
    "# Create the list of features below\n",
    "feature_names = [\"LotArea\", \"YearBuilt\", \"1stFlrSF\", \"2ndFlrSF\", \"FullBath\", \"BedroomAbvGr\", \"TotRmsAbvGrd\"]\n",
    "\n",
    "# Select data corresponding to features in feature_names\n",
    "# X stores all of the data for the features\n",
    "X = home_data[feature_names]\n",
    "\n",
    "# Check your answer\n",
    "step_2.check()"
   ]
  },
  {
   "cell_type": "code",
   "execution_count": 6,
   "id": "84dbeae9",
   "metadata": {
    "execution": {
     "iopub.execute_input": "2024-11-04T14:30:42.009339Z",
     "iopub.status.busy": "2024-11-04T14:30:42.008855Z",
     "iopub.status.idle": "2024-11-04T14:30:42.014096Z",
     "shell.execute_reply": "2024-11-04T14:30:42.012854Z"
    },
    "papermill": {
     "duration": 0.017269,
     "end_time": "2024-11-04T14:30:42.016658",
     "exception": false,
     "start_time": "2024-11-04T14:30:41.999389",
     "status": "completed"
    },
    "tags": []
   },
   "outputs": [],
   "source": [
    "# step_2.hint()\n",
    "# step_2.solution()"
   ]
  },
  {
   "cell_type": "markdown",
   "id": "c4f653c6",
   "metadata": {
    "papermill": {
     "duration": 0.008002,
     "end_time": "2024-11-04T14:30:42.032503",
     "exception": false,
     "start_time": "2024-11-04T14:30:42.024501",
     "status": "completed"
    },
    "tags": []
   },
   "source": [
    "## Review Data\n",
    "Before building a model, take a quick look at **X** to verify it looks sensible"
   ]
  },
  {
   "cell_type": "code",
   "execution_count": 7,
   "id": "6b192746",
   "metadata": {
    "execution": {
     "iopub.execute_input": "2024-11-04T14:30:42.050839Z",
     "iopub.status.busy": "2024-11-04T14:30:42.049947Z",
     "iopub.status.idle": "2024-11-04T14:30:42.054691Z",
     "shell.execute_reply": "2024-11-04T14:30:42.053636Z"
    },
    "papermill": {
     "duration": 0.016546,
     "end_time": "2024-11-04T14:30:42.057063",
     "exception": false,
     "start_time": "2024-11-04T14:30:42.040517",
     "status": "completed"
    },
    "tags": []
   },
   "outputs": [],
   "source": [
    "# Review data\n",
    "# print description or statistics from X\n",
    "#print(_)\n",
    "\n",
    "# print the top few lines\n",
    "#print(_)"
   ]
  },
  {
   "cell_type": "markdown",
   "id": "46421864",
   "metadata": {
    "papermill": {
     "duration": 0.007764,
     "end_time": "2024-11-04T14:30:42.072651",
     "exception": false,
     "start_time": "2024-11-04T14:30:42.064887",
     "status": "completed"
    },
    "tags": []
   },
   "source": [
    "## Step 3: Specify and Fit Model\n",
    "Create a `DecisionTreeRegressor` and save it iowa_model. Ensure you've done the relevant import from sklearn to run this command.\n",
    "\n",
    "Then fit the model you just created using the data in `X` and `y` that you saved above."
   ]
  },
  {
   "cell_type": "code",
   "execution_count": 8,
   "id": "4c174fae",
   "metadata": {
    "execution": {
     "iopub.execute_input": "2024-11-04T14:30:42.091579Z",
     "iopub.status.busy": "2024-11-04T14:30:42.091135Z",
     "iopub.status.idle": "2024-11-04T14:30:42.113071Z",
     "shell.execute_reply": "2024-11-04T14:30:42.111965Z"
    },
    "papermill": {
     "duration": 0.034555,
     "end_time": "2024-11-04T14:30:42.115512",
     "exception": false,
     "start_time": "2024-11-04T14:30:42.080957",
     "status": "completed"
    },
    "tags": []
   },
   "outputs": [
    {
     "data": {
      "application/javascript": [
       "parent.postMessage({\"jupyterEvent\": \"custom.exercise_interaction\", \"data\": {\"outcomeType\": 1, \"valueTowardsCompletion\": 0.25, \"interactionType\": 1, \"questionType\": 2, \"questionId\": \"3_CreateModel\", \"learnToolsVersion\": \"0.3.4\", \"failureMessage\": \"\", \"exceptionClass\": \"\", \"trace\": \"\"}}, \"*\")"
      ],
      "text/plain": [
       "<IPython.core.display.Javascript object>"
      ]
     },
     "metadata": {},
     "output_type": "display_data"
    },
    {
     "data": {
      "text/markdown": [
       "<span style=\"color:#33cc33\">Correct</span>"
      ],
      "text/plain": [
       "Correct"
      ]
     },
     "metadata": {},
     "output_type": "display_data"
    }
   ],
   "source": [
    "from sklearn.tree import DecisionTreeRegressor\n",
    "# from _ import _\n",
    "#specify the model. \n",
    "#For model reproducibility, set a numeric value for random_state when specifying the model\n",
    "iowa_model = DecisionTreeRegressor(random_state = 1)\n",
    "\n",
    "# Fit the model\n",
    "iowa_model.fit(X,y)\n",
    "\n",
    "# Check your answer\n",
    "step_3.check()"
   ]
  },
  {
   "cell_type": "code",
   "execution_count": 9,
   "id": "63fe4673",
   "metadata": {
    "collapsed": true,
    "execution": {
     "iopub.execute_input": "2024-11-04T14:30:42.133777Z",
     "iopub.status.busy": "2024-11-04T14:30:42.133339Z",
     "iopub.status.idle": "2024-11-04T14:30:42.138052Z",
     "shell.execute_reply": "2024-11-04T14:30:42.136950Z"
    },
    "jupyter": {
     "outputs_hidden": true
    },
    "papermill": {
     "duration": 0.016769,
     "end_time": "2024-11-04T14:30:42.140635",
     "exception": false,
     "start_time": "2024-11-04T14:30:42.123866",
     "status": "completed"
    },
    "tags": []
   },
   "outputs": [],
   "source": [
    "# step_3.hint()\n",
    "# step_3.solution()"
   ]
  },
  {
   "cell_type": "markdown",
   "id": "4dd5010d",
   "metadata": {
    "papermill": {
     "duration": 0.007773,
     "end_time": "2024-11-04T14:30:42.156580",
     "exception": false,
     "start_time": "2024-11-04T14:30:42.148807",
     "status": "completed"
    },
    "tags": []
   },
   "source": [
    "## Step 4: Make Predictions\n",
    "Make predictions with the model's `predict` command using `X` as the data. Save the results to a variable called `predictions`."
   ]
  },
  {
   "cell_type": "code",
   "execution_count": 10,
   "id": "12fd5370",
   "metadata": {
    "execution": {
     "iopub.execute_input": "2024-11-04T14:30:42.175676Z",
     "iopub.status.busy": "2024-11-04T14:30:42.175142Z",
     "iopub.status.idle": "2024-11-04T14:30:42.191722Z",
     "shell.execute_reply": "2024-11-04T14:30:42.190444Z"
    },
    "papermill": {
     "duration": 0.029041,
     "end_time": "2024-11-04T14:30:42.194302",
     "exception": false,
     "start_time": "2024-11-04T14:30:42.165261",
     "status": "completed"
    },
    "tags": []
   },
   "outputs": [
    {
     "name": "stdout",
     "output_type": "stream",
     "text": [
      "[208500. 181500. 223500. ... 266500. 142125. 147500.]\n"
     ]
    },
    {
     "data": {
      "application/javascript": [
       "parent.postMessage({\"jupyterEvent\": \"custom.exercise_interaction\", \"data\": {\"outcomeType\": 1, \"valueTowardsCompletion\": 0.25, \"interactionType\": 1, \"questionType\": 2, \"questionId\": \"4_MakePredictions\", \"learnToolsVersion\": \"0.3.4\", \"failureMessage\": \"\", \"exceptionClass\": \"\", \"trace\": \"\"}}, \"*\")"
      ],
      "text/plain": [
       "<IPython.core.display.Javascript object>"
      ]
     },
     "metadata": {},
     "output_type": "display_data"
    },
    {
     "data": {
      "text/markdown": [
       "<span style=\"color:#33cc33\">Correct</span>"
      ],
      "text/plain": [
       "Correct"
      ]
     },
     "metadata": {},
     "output_type": "display_data"
    }
   ],
   "source": [
    "predictions = iowa_model.predict(X)\n",
    "print(predictions)\n",
    "\n",
    "# Check your answer\n",
    "step_4.check()"
   ]
  },
  {
   "cell_type": "code",
   "execution_count": 11,
   "id": "cf47c5cb",
   "metadata": {
    "collapsed": true,
    "execution": {
     "iopub.execute_input": "2024-11-04T14:30:42.213935Z",
     "iopub.status.busy": "2024-11-04T14:30:42.213115Z",
     "iopub.status.idle": "2024-11-04T14:30:42.218461Z",
     "shell.execute_reply": "2024-11-04T14:30:42.217336Z"
    },
    "jupyter": {
     "outputs_hidden": true
    },
    "papermill": {
     "duration": 0.018248,
     "end_time": "2024-11-04T14:30:42.221268",
     "exception": false,
     "start_time": "2024-11-04T14:30:42.203020",
     "status": "completed"
    },
    "tags": []
   },
   "outputs": [],
   "source": [
    "# step_4.hint()\n",
    "# step_4.solution()"
   ]
  },
  {
   "cell_type": "markdown",
   "id": "9ef2385a",
   "metadata": {
    "papermill": {
     "duration": 0.008844,
     "end_time": "2024-11-04T14:30:42.239414",
     "exception": false,
     "start_time": "2024-11-04T14:30:42.230570",
     "status": "completed"
    },
    "tags": []
   },
   "source": [
    "## Think About Your Results\n",
    "\n",
    "Use the `head` method to compare the top few predictions to the actual home values (in `y`) for those same homes. Anything surprising?\n"
   ]
  },
  {
   "cell_type": "code",
   "execution_count": 12,
   "id": "4496fce1",
   "metadata": {
    "execution": {
     "iopub.execute_input": "2024-11-04T14:30:42.258738Z",
     "iopub.status.busy": "2024-11-04T14:30:42.258304Z",
     "iopub.status.idle": "2024-11-04T14:30:42.263433Z",
     "shell.execute_reply": "2024-11-04T14:30:42.262283Z"
    },
    "papermill": {
     "duration": 0.017685,
     "end_time": "2024-11-04T14:30:42.265830",
     "exception": false,
     "start_time": "2024-11-04T14:30:42.248145",
     "status": "completed"
    },
    "tags": []
   },
   "outputs": [],
   "source": [
    "# You can write code in this cell\n"
   ]
  },
  {
   "cell_type": "markdown",
   "id": "a1ab1158",
   "metadata": {
    "papermill": {
     "duration": 0.008692,
     "end_time": "2024-11-04T14:30:42.283342",
     "exception": false,
     "start_time": "2024-11-04T14:30:42.274650",
     "status": "completed"
    },
    "tags": []
   },
   "source": [
    "It's natural to ask how accurate the model's predictions will be and how you can improve that. That will be you're next step.\n",
    "\n",
    "# Keep Going\n",
    "\n",
    "You are ready for **[Model Validation](https://www.kaggle.com/dansbecker/model-validation).**\n"
   ]
  },
  {
   "cell_type": "markdown",
   "id": "b91b7c9a",
   "metadata": {
    "papermill": {
     "duration": 0.008605,
     "end_time": "2024-11-04T14:30:42.300685",
     "exception": false,
     "start_time": "2024-11-04T14:30:42.292080",
     "status": "completed"
    },
    "tags": []
   },
   "source": [
    "---\n",
    "\n",
    "\n",
    "\n",
    "\n",
    "*Have questions or comments? Visit the [course discussion forum](https://www.kaggle.com/learn/intro-to-machine-learning/discussion) to chat with other learners.*"
   ]
  }
 ],
 "metadata": {
  "kaggle": {
   "accelerator": "none",
   "dataSources": [
    {
     "databundleVersionId": 111096,
     "sourceId": 10211,
     "sourceType": "competition"
    },
    {
     "datasetId": 11167,
     "sourceId": 15520,
     "sourceType": "datasetVersion"
    },
    {
     "datasetId": 2709,
     "sourceId": 38454,
     "sourceType": "datasetVersion"
    }
   ],
   "isGpuEnabled": false,
   "isInternetEnabled": false,
   "language": "python",
   "sourceType": "notebook"
  },
  "kernelspec": {
   "display_name": "Python 3",
   "language": "python",
   "name": "python3"
  },
  "language_info": {
   "codemirror_mode": {
    "name": "ipython",
    "version": 3
   },
   "file_extension": ".py",
   "mimetype": "text/x-python",
   "name": "python",
   "nbconvert_exporter": "python",
   "pygments_lexer": "ipython3",
   "version": "3.10.14"
  },
  "papermill": {
   "default_parameters": {},
   "duration": 7.02922,
   "end_time": "2024-11-04T14:30:42.931490",
   "environment_variables": {},
   "exception": null,
   "input_path": "__notebook__.ipynb",
   "output_path": "__notebook__.ipynb",
   "parameters": {},
   "start_time": "2024-11-04T14:30:35.902270",
   "version": "2.6.0"
  }
 },
 "nbformat": 4,
 "nbformat_minor": 5
}
